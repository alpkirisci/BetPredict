{
 "cells": [
  {
   "cell_type": "code",
   "execution_count": 3,
   "id": "5aa42a37",
   "metadata": {},
   "outputs": [
    {
     "name": "stdout",
     "output_type": "stream",
     "text": [
      "Requirement already satisfied: beautifulsoup4 in d:\\anaconda\\lib\\site-packages (4.12.2)\n",
      "Requirement already satisfied: soupsieve>1.2 in d:\\anaconda\\lib\\site-packages (from beautifulsoup4) (2.4)\n",
      "Collecting selenium\n",
      "  Obtaining dependency information for selenium from https://files.pythonhosted.org/packages/dc/72/96b5afa16908f9abc7c24b70adfd3a46c9740eb728ddfeab28379e38eaf9/selenium-4.16.0-py3-none-any.whl.metadata\n",
      "  Downloading selenium-4.16.0-py3-none-any.whl.metadata (6.9 kB)\n",
      "Requirement already satisfied: urllib3[socks]<3,>=1.26 in d:\\anaconda\\lib\\site-packages (from selenium) (1.26.16)\n",
      "Collecting trio~=0.17 (from selenium)\n",
      "  Obtaining dependency information for trio~=0.17 from https://files.pythonhosted.org/packages/14/fb/9299cf74953f473a15accfdbe2c15218e766bae8c796f2567c83bae03e98/trio-0.24.0-py3-none-any.whl.metadata\n",
      "  Downloading trio-0.24.0-py3-none-any.whl.metadata (4.9 kB)\n",
      "Collecting trio-websocket~=0.9 (from selenium)\n",
      "  Obtaining dependency information for trio-websocket~=0.9 from https://files.pythonhosted.org/packages/48/be/a9ae5f50cad5b6f85bd2574c2c923730098530096e170c1ce7452394d7aa/trio_websocket-0.11.1-py3-none-any.whl.metadata\n",
      "  Downloading trio_websocket-0.11.1-py3-none-any.whl.metadata (4.7 kB)\n",
      "Requirement already satisfied: certifi>=2021.10.8 in d:\\anaconda\\lib\\site-packages (from selenium) (2023.11.17)\n",
      "Requirement already satisfied: attrs>=20.1.0 in d:\\anaconda\\lib\\site-packages (from trio~=0.17->selenium) (22.1.0)\n",
      "Requirement already satisfied: sortedcontainers in d:\\anaconda\\lib\\site-packages (from trio~=0.17->selenium) (2.4.0)\n",
      "Requirement already satisfied: idna in d:\\anaconda\\lib\\site-packages (from trio~=0.17->selenium) (3.4)\n",
      "Collecting outcome (from trio~=0.17->selenium)\n",
      "  Obtaining dependency information for outcome from https://files.pythonhosted.org/packages/55/8b/5ab7257531a5d830fc8000c476e63c935488d74609b50f9384a643ec0a62/outcome-1.3.0.post0-py2.py3-none-any.whl.metadata\n",
      "  Downloading outcome-1.3.0.post0-py2.py3-none-any.whl.metadata (2.6 kB)\n",
      "Collecting sniffio>=1.3.0 (from trio~=0.17->selenium)\n",
      "  Downloading sniffio-1.3.0-py3-none-any.whl (10 kB)\n",
      "Requirement already satisfied: cffi>=1.14 in d:\\anaconda\\lib\\site-packages (from trio~=0.17->selenium) (1.15.1)\n",
      "Collecting wsproto>=0.14 (from trio-websocket~=0.9->selenium)\n",
      "  Downloading wsproto-1.2.0-py3-none-any.whl (24 kB)\n",
      "Requirement already satisfied: PySocks!=1.5.7,<2.0,>=1.5.6 in d:\\anaconda\\lib\\site-packages (from urllib3[socks]<3,>=1.26->selenium) (1.7.1)\n",
      "Requirement already satisfied: pycparser in d:\\anaconda\\lib\\site-packages (from cffi>=1.14->trio~=0.17->selenium) (2.21)\n",
      "Collecting h11<1,>=0.9.0 (from wsproto>=0.14->trio-websocket~=0.9->selenium)\n",
      "  Downloading h11-0.14.0-py3-none-any.whl (58 kB)\n",
      "     ---------------------------------------- 0.0/58.3 kB ? eta -:--:--\n",
      "     ---------------------------- ----------- 41.0/58.3 kB 1.9 MB/s eta 0:00:01\n",
      "     -------------------------------------- 58.3/58.3 kB 762.2 kB/s eta 0:00:00\n",
      "Downloading selenium-4.16.0-py3-none-any.whl (10.0 MB)\n",
      "   ---------------------------------------- 0.0/10.0 MB ? eta -:--:--\n",
      "   ---------------------------------------- 0.1/10.0 MB 5.1 MB/s eta 0:00:02\n",
      "   - -------------------------------------- 0.3/10.0 MB 3.9 MB/s eta 0:00:03\n",
      "   -- ------------------------------------- 0.7/10.0 MB 4.8 MB/s eta 0:00:02\n",
      "   ---- ----------------------------------- 1.0/10.0 MB 5.5 MB/s eta 0:00:02\n",
      "   ------ --------------------------------- 1.6/10.0 MB 6.6 MB/s eta 0:00:02\n",
      "   -------- ------------------------------- 2.2/10.0 MB 7.6 MB/s eta 0:00:02\n",
      "   ---------- ----------------------------- 2.7/10.0 MB 8.2 MB/s eta 0:00:01\n",
      "   ------------- -------------------------- 3.3/10.0 MB 8.7 MB/s eta 0:00:01\n",
      "   --------------- ------------------------ 3.8/10.0 MB 9.0 MB/s eta 0:00:01\n",
      "   ----------------- ---------------------- 4.4/10.0 MB 9.3 MB/s eta 0:00:01\n",
      "   ------------------- -------------------- 4.9/10.0 MB 9.3 MB/s eta 0:00:01\n",
      "   ---------------------- ----------------- 5.5/10.0 MB 9.7 MB/s eta 0:00:01\n",
      "   ------------------------ --------------- 6.0/10.0 MB 9.9 MB/s eta 0:00:01\n",
      "   -------------------------- ------------- 6.6/10.0 MB 10.1 MB/s eta 0:00:01\n",
      "   ---------------------------- ----------- 7.2/10.0 MB 9.9 MB/s eta 0:00:01\n",
      "   ------------------------------ --------- 7.7/10.0 MB 10.3 MB/s eta 0:00:01\n",
      "   --------------------------------- ------ 8.3/10.0 MB 10.4 MB/s eta 0:00:01\n",
      "   ----------------------------------- ---- 8.8/10.0 MB 10.3 MB/s eta 0:00:01\n",
      "   ------------------------------------- -- 9.4/10.0 MB 10.5 MB/s eta 0:00:01\n",
      "   ---------------------------------------  9.9/10.0 MB 10.6 MB/s eta 0:00:01\n",
      "   ---------------------------------------  10.0/10.0 MB 10.4 MB/s eta 0:00:01\n",
      "   ---------------------------------------- 10.0/10.0 MB 10.0 MB/s eta 0:00:00\n",
      "Downloading trio-0.24.0-py3-none-any.whl (460 kB)\n",
      "   ---------------------------------------- 0.0/460.2 kB ? eta -:--:--\n",
      "   ---------------------------------------  450.6/460.2 kB 9.4 MB/s eta 0:00:01\n",
      "   ---------------------------------------- 460.2/460.2 kB 7.3 MB/s eta 0:00:00\n",
      "Downloading trio_websocket-0.11.1-py3-none-any.whl (17 kB)\n",
      "Downloading outcome-1.3.0.post0-py2.py3-none-any.whl (10 kB)\n",
      "Installing collected packages: sniffio, outcome, h11, wsproto, trio, trio-websocket, selenium\n",
      "  Attempting uninstall: sniffio\n",
      "    Found existing installation: sniffio 1.2.0\n",
      "    Uninstalling sniffio-1.2.0:\n",
      "      Successfully uninstalled sniffio-1.2.0\n",
      "Successfully installed h11-0.14.0 outcome-1.3.0.post0 selenium-4.16.0 sniffio-1.3.0 trio-0.24.0 trio-websocket-0.11.1 wsproto-1.2.0\n"
     ]
    }
   ],
   "source": [
    "!pip3 install beautifulsoup4\n",
    "!pip3 install selenium"
   ]
  },
  {
   "cell_type": "code",
   "execution_count": null,
   "id": "61a6a37c",
   "metadata": {},
   "outputs": [],
   "source": [
    "teams = [{name,players,nextwr}]"
   ]
  },
  {
   "cell_type": "code",
   "execution_count": 13,
   "id": "6a827def",
   "metadata": {},
   "outputs": [
    {
     "data": {
      "text/plain": [
       "[<a href=\"Default.aspx?pageId=28&amp;kulupID=3592\" id=\"ctl00_MPane_m_198_12490_ctnr_m_198_12490_grvACetvel_ctl01_lnkTakim\">1.FENERBAHÇE A.Ş.</a>,\n",
       " <a href=\"Default.aspx?pageId=28&amp;kulupID=3604\" id=\"ctl00_MPane_m_198_12490_ctnr_m_198_12490_grvACetvel_ctl02_lnkTakim\">2.GALATASARAY A.Ş.</a>,\n",
       " <a href=\"Default.aspx?pageId=28&amp;kulupID=3603\" id=\"ctl00_MPane_m_198_12490_ctnr_m_198_12490_grvACetvel_ctl03_lnkTakim\">3.YUKATEL ADANA DEMİRSPOR A.Ş.</a>,\n",
       " <a href=\"Default.aspx?pageId=28&amp;kulupID=3590\" id=\"ctl00_MPane_m_198_12490_ctnr_m_198_12490_grvACetvel_ctl04_lnkTakim\">4.BEŞİKTAŞ A.Ş.</a>,\n",
       " <a href=\"Default.aspx?pageId=28&amp;kulupID=3596\" id=\"ctl00_MPane_m_198_12490_ctnr_m_198_12490_grvACetvel_ctl05_lnkTakim\">5.TRABZONSPOR A.Ş.</a>,\n",
       " <a href=\"Default.aspx?pageId=28&amp;kulupID=39\" id=\"ctl00_MPane_m_198_12490_ctnr_m_198_12490_grvACetvel_ctl06_lnkTakim\">6.KASIMPAŞA A.Ş.</a>,\n",
       " <a href=\"Default.aspx?pageId=28&amp;kulupID=121\" id=\"ctl00_MPane_m_198_12490_ctnr_m_198_12490_grvACetvel_ctl07_lnkTakim\">7.ATAKAŞ HATAYSPOR</a>,\n",
       " <a href=\"Default.aspx?pageId=28&amp;kulupID=3631\" id=\"ctl00_MPane_m_198_12490_ctnr_m_198_12490_grvACetvel_ctl08_lnkTakim\">8.ÇAYKUR RİZESPOR A.Ş.</a>,\n",
       " <a href=\"Default.aspx?pageId=28&amp;kulupID=72\" id=\"ctl00_MPane_m_198_12490_ctnr_m_198_12490_grvACetvel_ctl09_lnkTakim\">9.MONDİHOME KAYSERİSPOR</a>,\n",
       " <a href=\"Default.aspx?pageId=28&amp;kulupID=74\" id=\"ctl00_MPane_m_198_12490_ctnr_m_198_12490_grvACetvel_ctl10_lnkTakim\">10.EMS YAPI SİVASSPOR</a>,\n",
       " <a href=\"Default.aspx?pageId=28&amp;kulupID=51\" id=\"ctl00_MPane_m_198_12490_ctnr_m_198_12490_grvACetvel_ctl11_lnkTakim\">11.CORENDON ALANYASPOR</a>,\n",
       " <a href=\"Default.aspx?pageId=28&amp;kulupID=3595\" id=\"ctl00_MPane_m_198_12490_ctnr_m_198_12490_grvACetvel_ctl12_lnkTakim\">12.MKE ANKARAGÜCÜ</a>,\n",
       " <a href=\"Default.aspx?pageId=28&amp;kulupID=3611\" id=\"ctl00_MPane_m_198_12490_ctnr_m_198_12490_grvACetvel_ctl13_lnkTakim\">13.VAVACARS FATİH KARAGÜMRÜK</a>,\n",
       " <a href=\"Default.aspx?pageId=28&amp;kulupID=52\" id=\"ctl00_MPane_m_198_12490_ctnr_m_198_12490_grvACetvel_ctl14_lnkTakim\">14.BITEXEN ANTALYASPOR</a>,\n",
       " <a href=\"Default.aspx?pageId=28&amp;kulupID=3600\" id=\"ctl00_MPane_m_198_12490_ctnr_m_198_12490_grvACetvel_ctl15_lnkTakim\">15.TÜMOSAN KONYASPOR</a>,\n",
       " <a href=\"Default.aspx?pageId=28&amp;kulupID=3672\" id=\"ctl00_MPane_m_198_12490_ctnr_m_198_12490_grvACetvel_ctl16_lnkTakim\">16.GAZİANTEP FUTBOL KULÜBÜ A.Ş.</a>,\n",
       " <a href=\"Default.aspx?pageId=28&amp;kulupID=3665\" id=\"ctl00_MPane_m_198_12490_ctnr_m_198_12490_grvACetvel_ctl17_lnkTakim\">17.RAMS BAŞAKŞEHİR FUTBOL KULÜBÜ</a>,\n",
       " <a href=\"Default.aspx?pageId=28&amp;kulupID=3623\" id=\"ctl00_MPane_m_198_12490_ctnr_m_198_12490_grvACetvel_ctl18_lnkTakim\">18.SİLTAŞ YAPI PENDİKSPOR FUTBOL A.Ş.</a>,\n",
       " <a href=\"Default.aspx?pageId=28&amp;kulupID=3597\" id=\"ctl00_MPane_m_198_12490_ctnr_m_198_12490_grvACetvel_ctl19_lnkTakim\">19.YILPORT SAMSUNSPOR</a>,\n",
       " <a href=\"Default.aspx?pageId=28&amp;kulupID=3617\" id=\"ctl00_MPane_m_198_12490_ctnr_m_198_12490_grvACetvel_ctl20_lnkTakim\">20.İSTANBULSPOR A.Ş.</a>]"
      ]
     },
     "execution_count": 13,
     "metadata": {},
     "output_type": "execute_result"
    }
   ],
   "source": [
    "import requests\n",
    "from bs4 import BeautifulSoup\n",
    " \n",
    "page = requests.get('https://www.tff.org/Default.aspx?pageID=198&hafta=9#grp') # Getting league team list page HTML through request\n",
    "soup = BeautifulSoup(page.content, 'html.parser') # Parsing content using beautifulsoup\n",
    " \n",
    "cur = soup.select(\".s-table tr td:first-of-type a\") # Selecting all of the teams\n",
    "\n",
    "for i in range(len(cur)):\n",
    "    teams[i].name = cur[i].text\n",
    "    print(teams[i].name) # Display the teams"
   ]
  },
  {
   "cell_type": "code",
   "execution_count": null,
   "id": "c5b78a3a",
   "metadata": {},
   "outputs": [],
   "source": []
  }
 ],
 "metadata": {
  "kernelspec": {
   "display_name": "Python 3 (ipykernel)",
   "language": "python",
   "name": "python3"
  },
  "language_info": {
   "codemirror_mode": {
    "name": "ipython",
    "version": 3
   },
   "file_extension": ".py",
   "mimetype": "text/x-python",
   "name": "python",
   "nbconvert_exporter": "python",
   "pygments_lexer": "ipython3",
   "version": "3.11.5"
  }
 },
 "nbformat": 4,
 "nbformat_minor": 5
}
